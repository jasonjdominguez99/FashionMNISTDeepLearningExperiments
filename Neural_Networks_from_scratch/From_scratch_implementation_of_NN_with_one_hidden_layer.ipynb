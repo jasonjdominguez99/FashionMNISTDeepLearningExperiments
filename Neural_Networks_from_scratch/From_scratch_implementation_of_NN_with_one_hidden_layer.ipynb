{
 "cells": [
  {
   "cell_type": "markdown",
   "metadata": {},
   "source": [
    "# Fashion MNIST deep learning experiments"
   ]
  },
  {
   "cell_type": "markdown",
   "metadata": {},
   "source": [
    "### Notebook showing a from scratch implementation of a single layer neural network applied to the Fashion MNIST dataset"
   ]
  },
  {
   "cell_type": "code",
   "execution_count": 1,
   "metadata": {},
   "outputs": [],
   "source": [
    "import numpy as np\n",
    "import matplotlib.pyplot as plt\n",
    "import tensorflow as tf"
   ]
  },
  {
   "cell_type": "markdown",
   "metadata": {},
   "source": [
    "#### 1. Importing and preprocessing the Fashion MNIST data"
   ]
  },
  {
   "cell_type": "code",
   "execution_count": 2,
   "metadata": {},
   "outputs": [],
   "source": [
    "def one_hot_encode(y):\n",
    "    \"\"\"\n",
    "    One-hot encodes input vector y\n",
    "\n",
    "    Parameters\n",
    "    ----------\n",
    "    y : np.array\n",
    "        Vector to be one-hot encoded\n",
    "\n",
    "    Returns\n",
    "    -------\n",
    "    y_enc : np.array\n",
    "        One-hot encoding of vector y\n",
    "\n",
    "    \"\"\"\n",
    "    N = y.shape[0]\n",
    "    y.reshape(N,1)\n",
    "    values_to_encode = np.unique(y)\n",
    "    size = len(values_to_encode) # number of values to be encoded\n",
    "    \n",
    "    y_enc = np.zeros((N, size))\n",
    "    for i in range(N):\n",
    "        y_enc[i, int(y[i])] = 1\n",
    "    \n",
    "    return y_enc"
   ]
  },
  {
   "cell_type": "code",
   "execution_count": 3,
   "metadata": {},
   "outputs": [],
   "source": [
    "def load_and_preprocess():\n",
    "    \"\"\"\n",
    "    Loads training and test data from csv files and stores them in appropriate\n",
    "    numpy arrays\n",
    "\n",
    "    Parameters\n",
    "    ----------\n",
    "    train_file_path : string\n",
    "        Name of file within current directory containing training data\n",
    "    test_file_path : string\n",
    "        Name of file within current directory containing test data\n",
    "\n",
    "    Returns\n",
    "    -------\n",
    "    images_train : np.array\n",
    "        Training data images in array of size (N_train, n_px * n_px) where\n",
    "        N_train is number of training examples and n_px is pixel size of\n",
    "        images (assuming square images)\n",
    "    labels_train : np.array\n",
    "        One-hot encoding of the labels corresponding to training data images.\n",
    "        Of size (N_train, 10) (10 as this is how many unique values were encoded)\n",
    "    images_test : np.array\n",
    "        Training data images in array of size (N_test, n_px * n_px) where\n",
    "        N_test is number of training examples\n",
    "    labels_test : np.array\n",
    "        One-hot encoding of the labels corresponding to test data images.\n",
    "        Of size (N_test, 10)\n",
    "\n",
    "    \"\"\"\n",
    "    # Load data\n",
    "    fashion_mnist = tf.keras.datasets.fashion_mnist\n",
    "    (train_images, train_labels), (val_images, val_labels) = fashion_mnist.load_data()\n",
    "    \n",
    "    # Normalize and reshape data\n",
    "    # Images are currently (N,28,28), we want (784,N)\n",
    "    N_train = train_images.shape[0]\n",
    "    N_val = val_images.shape[0]\n",
    "    nx = train_images.shape[1]\n",
    "    train_images = train_images.reshape((N_train, nx*nx)).T / 255\n",
    "    val_images = val_images.reshape((N_val, nx*nx)).T / 255\n",
    "    \n",
    "    # One-hot encode the label data (originally of size (N,))\n",
    "    train_labels_encoded = one_hot_encode(train_labels)\n",
    "    val_labels_encoded = one_hot_encode(val_labels)\n",
    "    \n",
    "    print(\"Dataset loaded successfully and preprocessed!\")\n",
    "    \n",
    "    return train_images, train_labels_encoded, val_images, val_labels_encoded, train_labels.reshape((N_train,1)), val_labels.reshape((N_val,1))"
   ]
  },
  {
   "cell_type": "code",
   "execution_count": 4,
   "metadata": {},
   "outputs": [
    {
     "name": "stdout",
     "output_type": "stream",
     "text": [
      "Dataset loaded successfully and preprocessed!\n"
     ]
    }
   ],
   "source": [
    "images_train, labels_train, images_val, labels_val, labels_train_orig, labels_val_orig = load_and_preprocess()"
   ]
  },
  {
   "cell_type": "code",
   "execution_count": 5,
   "metadata": {},
   "outputs": [
    {
     "name": "stdout",
     "output_type": "stream",
     "text": [
      "Training images has the shape: (784, 60000)\n",
      "Training labels has the shape: (60000, 10)\n",
      "Training labels (before encoding) has the shape: (60000, 1)\n",
      "Validation images has the shape: (784, 10000)\n",
      "Validation labels has the shape: (10000, 10)\n",
      "Number of training examples: 60000\n",
      "Number of val examples: 10000\n",
      "Original training labels: \n",
      "[[9]\n",
      " [0]\n",
      " [0]\n",
      " ...\n",
      " [3]\n",
      " [0]\n",
      " [5]]\n",
      "Encoded training labels: \n",
      "[[0. 0. 0. ... 0. 0. 1.]\n",
      " [1. 0. 0. ... 0. 0. 0.]\n",
      " [1. 0. 0. ... 0. 0. 0.]\n",
      " ...\n",
      " [0. 0. 0. ... 0. 0. 0.]\n",
      " [1. 0. 0. ... 0. 0. 0.]\n",
      " [0. 0. 0. ... 0. 0. 0.]]\n"
     ]
    }
   ],
   "source": [
    "print(\"Training images has the shape: \" + str(images_train.shape))\n",
    "print(\"Training labels has the shape: \" + str(labels_train.shape))\n",
    "print(\"Training labels (before encoding) has the shape: \" + str(labels_train_orig.shape))\n",
    "print(\"Validation images has the shape: \" + str(images_val.shape))\n",
    "print(\"Validation labels has the shape: \" + str(labels_val.shape))\n",
    "print(\"Number of training examples: \" + str(images_train.shape[1]))\n",
    "print(\"Number of val examples: \" + str(images_val.shape[1]))\n",
    "\n",
    "print(\"Original training labels: \")\n",
    "print(labels_train_orig)\n",
    "print(\"Encoded training labels: \")\n",
    "print(labels_train)"
   ]
  },
  {
   "cell_type": "code",
   "execution_count": 6,
   "metadata": {},
   "outputs": [
    {
     "data": {
      "image/png": "[encoded data removed]",
      "text/plain": [
       "<Figure size 432x432 with 4 Axes>"
      ]
     },
     "metadata": {
      "needs_background": "light"
     },
     "output_type": "display_data"
    }
   ],
   "source": [
    "plt.figure(figsize=[6,6])\n",
    "for i in range(4):\n",
    "    plt.subplot(2,2,i+1)\n",
    "    plt.title(\"Label: %i\"%labels_train_orig[i])\n",
    "    plt.imshow(images_train[:,i].reshape([28,28]),cmap='gray');"
   ]
  },
  {
   "cell_type": "markdown",
   "metadata": {},
   "source": [
    "Define a function to initial the weights and bias of the neurons."
   ]
  },
  {
   "cell_type": "code",
   "execution_count": 20,
   "metadata": {},
   "outputs": [],
   "source": [
    "def initialize_parameters(n_in, n_hidden, n_out):\n",
    "    \"\"\"\n",
    "    Initialize w parameter vector and bias with small random values\n",
    "\n",
    "    Parameters\n",
    "    ----------\n",
    "    n_w : int\n",
    "        number of w paramters to be initialized in w vector\n",
    "        equal to to the number of input features, n_px*n_px\n",
    "\n",
    "    Returns\n",
    "    -------\n",
    "    w : np.array\n",
    "        vector of weights initialized with small random values\n",
    "        of size (n_w, 1)\n",
    "    b : float\n",
    "        small randomly initialized bias\n",
    "\n",
    "    \"\"\"\n",
    "    \n",
    "    w1 = np.random.rand(n_in, n_hidden) * np.sqrt(1/n_hidden)\n",
    "    b1 = np.zeros((1, n_hidden))\n",
    "    \n",
    "    w2 = np.random.rand(n_hidden, n_out) * np.sqrt(1/n_out)\n",
    "    b2 = np.zeros((1, n_out))\n",
    "    \n",
    "    return w1, b1, w2, b2"
   ]
  },
  {
   "cell_type": "code",
   "execution_count": 9,
   "metadata": {},
   "outputs": [],
   "source": [
    "def sigmoid(x):\n",
    "    \n",
    "    s = 1 / (1 + np.exp(-x))\n",
    "    \n",
    "    return s"
   ]
  },
  {
   "cell_type": "markdown",
   "metadata": {},
   "source": [
    "Define a function which will calculate the current prediction based on the current parameters (W and b) and then use gradient descent to improve the parameters."
   ]
  },
  {
   "cell_type": "code",
   "execution_count": 11,
   "metadata": {},
   "outputs": [],
   "source": [
    "def update_weights(w1, b1, w2, b2, x, d, labels_orig, n_hidden, alpha):\n",
    "    \"\"\"\n",
    "    Update the values of weights and bias according to\n",
    "    the value of difference between computed outputs\n",
    "    and desired ouputs\n",
    "\n",
    "    Parameters\n",
    "    ----------\n",
    "    w : np.array\n",
    "        vector of weights of size (n_px*n_px, 1)\n",
    "    b : float\n",
    "        bias\n",
    "    x : np.array\n",
    "        training data of size (n_px*n_px, N)\n",
    "    d : np.array\n",
    "        desired outputs for training data of size\n",
    "        (N, 1)\n",
    "    N : int\n",
    "        number of examples\n",
    "\n",
    "    Returns\n",
    "    -------\n",
    "    w_new : np.array\n",
    "        updated value of weights\n",
    "    b_new : float\n",
    "        updated value of bias\n",
    "    error : float\n",
    "        total error of dataset\n",
    "\n",
    "    \"\"\"\n",
    "    N = x.shape[1]\n",
    "    y1 = np.reshape(sigmoid(np.dot(x.T, w1) + b1), (N, n_hidden))\n",
    "    y2 = np.reshape(sigmoid(np.dot(y1, w2) + b2), (d.shape))\n",
    "    y_pred = np.reshape(np.argmax(y2, axis = 1), labels_orig.shape)\n",
    "    diff2 = d - y2\n",
    "    \n",
    "    pc_error = float(np.sum(y_pred != labels_orig)) / N * 100\n",
    "    pc_accuracy = float(np.sum(y_pred == labels_orig)) / N * 100\n",
    "    \n",
    "    # Update weights\n",
    "    dw2 = np.dot(y1.T, diff2)\n",
    "    db2 = np.sum(diff2, axis = 0, keepdims=True)\n",
    "    dw1 = np.dot(x, np.dot(diff2, w2.T) *y1*(1-y1))\n",
    "    db1 = np.sum(np.dot(diff2, w2.T) *y1*(1-y1), axis = 0, keepdims=True)\n",
    "    \n",
    "    w1_new = w1 + (alpha * dw1)\n",
    "    b1_new = b1 + (alpha * db1)\n",
    "    w2_new = w2 + (alpha * dw2)\n",
    "    b2_new = b2 + (alpha * db2)\n",
    "    \n",
    "    \n",
    "    return w1_new, b1_new, w2_new, b2_new, pc_error, pc_accuracy"
   ]
  },
  {
   "cell_type": "markdown",
   "metadata": {},
   "source": [
    "Define the model which will iterate to continually improve the parameters."
   ]
  },
  {
   "cell_type": "code",
   "execution_count": 25,
   "metadata": {},
   "outputs": [],
   "source": [
    "def single_hidden_layer_model_train(images_train, labels_train, labels_train_orig, N_hidden = 10, alpha = 0.0001, num_iter = 1000):\n",
    "    \"\"\"\n",
    "    Train a single perceptron model\n",
    "\n",
    "    Parameters\n",
    "    ----------\n",
    "    images_train : np.array\n",
    "        greyscale (0s and 1s) image matrix \n",
    "        of size (N,n_px,n_px)\n",
    "    labels_train : np.array\n",
    "        DESCRIPTION.\n",
    "    alpha : float, optional\n",
    "        learning rate The default is 0.1.\n",
    "    acceptable_error : float, optional\n",
    "        the maximum accpetable percentage error before \n",
    "        learning is stopped. The default is 0.\n",
    "\n",
    "    Returns\n",
    "    -------\n",
    "    w : np.array\n",
    "        final trained values of weights\n",
    "    b : float\n",
    "        final trained value of bias\n",
    "    pc_error : \n",
    "        percentage error achieved once training has been completed\n",
    "\n",
    "    \"\"\"\n",
    "    x = images_train\n",
    "    N = x.shape[1] # number of training examples\n",
    "    d = labels_train\n",
    "    w1, b1, w2, b2 = initialize_parameters(x.shape[0], N_hidden, labels_train.shape[1])\n",
    "    accuracy_log = np.array([])\n",
    "    \n",
    "    print(\"Training has started...\")\n",
    "    \n",
    "    for i in range(1, num_iter+1):\n",
    "        w1, b1, w2, b2, pc_error, pc_accuracy = update_weights(w1, b1, w2, b2, x, d, labels_train_orig, N_hidden, alpha)\n",
    "        accuracy_log = np.append(accuracy_log, pc_accuracy)\n",
    "        if i % 50 == 0:\n",
    "            print(\"Interation \" + str(i) + \": % Error on training data = \" + str(pc_error))\n",
    "            print(\"% accuracy on training data = \" + str(pc_accuracy))\n",
    "    \n",
    "    print(\"\\n% error on training data: \" + str(pc_error))\n",
    "    print(\"% accuracy on training data = \" + str(pc_accuracy))\n",
    "    \n",
    "    return w1, b1, w2, b2, pc_error, pc_accuracy, accuracy_log"
   ]
  },
  {
   "cell_type": "markdown",
   "metadata": {},
   "source": [
    "Define a function that will generate a prediction on the test set using the trained parameters."
   ]
  },
  {
   "cell_type": "code",
   "execution_count": 26,
   "metadata": {},
   "outputs": [],
   "source": [
    "def single_hidden_layer_model_predict(images_val, labels_val, labels_orig, w1, b1, w2, b2):\n",
    "    \"\"\"\n",
    "    Get prediction on test data\n",
    "\n",
    "    Parameters\n",
    "    ----------\n",
    "    images_test : TYPE\n",
    "        DESCRIPTION.\n",
    "    labels_test : TYPE\n",
    "        DESCRIPTION.\n",
    "    w : TYPE\n",
    "        DESCRIPTION.\n",
    "    b : TYPE\n",
    "        DESCRIPTION.\n",
    "\n",
    "    Returns\n",
    "    -------\n",
    "    y_pred : TYPE\n",
    "        DESCRIPTION.\n",
    "    pc_error : TYPE\n",
    "        DESCRIPTION.\n",
    "\n",
    "    \"\"\"\n",
    "    x = images_val\n",
    "    N = x.shape[1] # numnber of test examples\n",
    "    d = labels_val\n",
    "    N_hidden = w2.shape[0]\n",
    "    \n",
    "    # Compute prediction and error\n",
    "    y1 = np.reshape(sigmoid(np.dot(x.T, w1) + b1), (N, N_hidden))\n",
    "    y2 = np.reshape(sigmoid(np.dot(y1, w2) + b2), (d.shape))\n",
    "    y_pred = np.reshape(np.argmax(y2, axis = 1), labels_orig.shape)\n",
    "    diff2 = d - y2\n",
    "    pc_error = float(np.sum(y_pred != labels_orig)) / N * 100\n",
    "    pc_accuracy = float(np.sum(y_pred == labels_orig)) / N * 100\n",
    "    print(\"% error on test data: \" + str(pc_error))\n",
    "    print(\"% accuracy on test data: \" + str(pc_accuracy))\n",
    "    \n",
    "    return y_pred, pc_error, pc_accuracy"
   ]
  },
  {
   "cell_type": "code",
   "execution_count": 27,
   "metadata": {},
   "outputs": [
    {
     "name": "stdout",
     "output_type": "stream",
     "text": [
      "Training has started...\n",
      "Interation 50: % Error on training data = 90.0\n",
      "% accuracy on training data = 10.0\n",
      "Interation 100: % Error on training data = 90.0\n",
      "% accuracy on training data = 10.0\n",
      "Interation 150: % Error on training data = 90.0\n",
      "% accuracy on training data = 10.0\n",
      "Interation 200: % Error on training data = 90.0\n",
      "% accuracy on training data = 10.0\n",
      "Interation 250: % Error on training data = 90.0\n",
      "% accuracy on training data = 10.0\n",
      "Interation 300: % Error on training data = 90.0\n",
      "% accuracy on training data = 10.0\n",
      "Interation 350: % Error on training data = 90.0\n",
      "% accuracy on training data = 10.0\n",
      "Interation 400: % Error on training data = 90.0\n",
      "% accuracy on training data = 10.0\n",
      "Interation 450: % Error on training data = 90.0\n",
      "% accuracy on training data = 10.0\n",
      "Interation 500: % Error on training data = 90.0\n",
      "% accuracy on training data = 10.0\n",
      "Interation 550: % Error on training data = 90.0\n",
      "% accuracy on training data = 10.0\n",
      "Interation 600: % Error on training data = 90.0\n",
      "% accuracy on training data = 10.0\n",
      "Interation 650: % Error on training data = 80.705\n",
      "% accuracy on training data = 19.295\n",
      "Interation 700: % Error on training data = 69.12\n",
      "% accuracy on training data = 30.880000000000003\n",
      "Interation 750: % Error on training data = 63.13166666666666\n",
      "% accuracy on training data = 36.86833333333333\n",
      "Interation 800: % Error on training data = 58.42\n",
      "% accuracy on training data = 41.58\n",
      "Interation 850: % Error on training data = 49.89\n",
      "% accuracy on training data = 50.11\n",
      "Interation 900: % Error on training data = 38.48\n",
      "% accuracy on training data = 61.519999999999996\n",
      "Interation 950: % Error on training data = 37.343333333333334\n",
      "% accuracy on training data = 62.65666666666667\n",
      "Interation 1000: % Error on training data = 33.99166666666667\n",
      "% accuracy on training data = 66.00833333333334\n",
      "\n",
      "% error on training data: 33.99166666666667\n",
      "% accuracy on training data = 66.00833333333334\n",
      "% error on test data: 40.96\n",
      "% accuracy on test data: 59.040000000000006\n"
     ]
    }
   ],
   "source": [
    "# Main\n",
    "    \n",
    "# Train model\n",
    "# Problem is very sensitive to learning rate\n",
    "w1, b1, w2, b2, pc_error_train, pc_accuracy_train, train_acc_log = single_hidden_layer_model_train(images_train, labels_train, labels_train_orig, alpha = 0.0001)\n",
    "# Get predictions on test data\n",
    "y_pred, pc_error_val, pc_accuracy_val = single_hidden_layer_model_predict(images_val, labels_val, labels_val_orig, w1, b1, w2, b2)"
   ]
  },
  {
   "cell_type": "code",
   "execution_count": 28,
   "metadata": {},
   "outputs": [
    {
     "name": "stdout",
     "output_type": "stream",
     "text": [
      "Labels test: \n",
      "[9 2 1 1 6 1 4 6 5 7 4 5 7 3 4 1 2 4 8 0 2 5 7 9 1 4 6 0 9 3]\n",
      "Predictions: \n",
      "[9 2 1 1 2 1 2 2 5 7 2 7 5 3 2 1 2 2 8 3 2 7 7 7 1 2 2 3 9 3]\n"
     ]
    }
   ],
   "source": [
    "print(\"Labels test: \")\n",
    "print(labels_val_orig[0:30,0])\n",
    "print(\"Predictions: \")\n",
    "print(y_pred[0:30,0])"
   ]
  },
  {
   "cell_type": "code",
   "execution_count": 29,
   "metadata": {},
   "outputs": [
    {
     "data": {
      "image/png": "[encoded data removed]",
      "text/plain": [
       "<Figure size 864x648 with 1 Axes>"
      ]
     },
     "metadata": {
      "needs_background": "light"
     },
     "output_type": "display_data"
    }
   ],
   "source": [
    "plt.figure(figsize=(12,9))\n",
    "\n",
    "plt.plot(train_acc_log)\n",
    "\n",
    "plt.title(\"Graph of training accuracy against training epoch\")\n",
    "plt.xlabel(\"Training epoch\")\n",
    "plt.ylabel(\"Training accuracy\")\n",
    "plt.grid(True)\n",
    "\n",
    "plt.show()"
   ]
  },
  {
   "cell_type": "markdown",
   "metadata": {},
   "source": [
    "Work needs to be done to improve this - can experiment with number of hidden layers, learning rate, etc."
   ]
  },
  {
   "cell_type": "code",
   "execution_count": null,
   "metadata": {},
   "outputs": [],
   "source": []
  }
 ],
 "metadata": {
  "kernelspec": {
   "display_name": "Python 3",
   "language": "python",
   "name": "python3"
  },
  "language_info": {
   "codemirror_mode": {
    "name": "ipython",
    "version": 3
   },
   "file_extension": ".py",
   "mimetype": "text/x-python",
   "name": "python",
   "nbconvert_exporter": "python",
   "pygments_lexer": "ipython3",
   "version": "3.7.6"
  }
 },
 "nbformat": 4,
 "nbformat_minor": 4
}
