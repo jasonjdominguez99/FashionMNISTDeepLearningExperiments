{
 "cells": [
  {
   "cell_type": "markdown",
   "metadata": {},
   "source": [
    "# Fashion MNIST deep learning experiments"
   ]
  },
  {
   "cell_type": "markdown",
   "metadata": {},
   "source": [
    "### Notebook showing a from scratch implementation of a single layer neural network applied to the Fashion MNIST dataset"
   ]
  },
  {
   "cell_type": "code",
   "execution_count": 1,
   "metadata": {},
   "outputs": [],
   "source": [
    "import numpy as np\n",
    "import matplotlib.pyplot as plt\n",
    "import tensorflow as tf"
   ]
  },
  {
   "cell_type": "markdown",
   "metadata": {},
   "source": [
    "#### 1. Importing and preprocessing the Fashion MNIST data"
   ]
  },
  {
   "cell_type": "code",
   "execution_count": 5,
   "metadata": {},
   "outputs": [],
   "source": [
    "def one_hot_encode(y):\n",
    "    \"\"\"\n",
    "    One-hot encodes input vector y\n",
    "\n",
    "    Parameters\n",
    "    ----------\n",
    "    y : np.array\n",
    "        Vector to be one-hot encoded\n",
    "\n",
    "    Returns\n",
    "    -------\n",
    "    y_enc : np.array\n",
    "        One-hot encoding of vector y\n",
    "\n",
    "    \"\"\"\n",
    "    N = y.shape[0]\n",
    "    y.reshape(N,1)\n",
    "    values_to_encode = np.unique(y)\n",
    "    size = len(values_to_encode) # number of values to be encoded\n",
    "    \n",
    "    y_enc = np.zeros((N, size))\n",
    "    for i in range(N):\n",
    "        y_enc[i, int(y[i])] = 1\n",
    "    \n",
    "    return y_enc"
   ]
  },
  {
   "cell_type": "code",
   "execution_count": 21,
   "metadata": {},
   "outputs": [],
   "source": [
    "def load_and_preprocess():\n",
    "    \"\"\"\n",
    "    Loads training and test data from csv files and stores them in appropriate\n",
    "    numpy arrays\n",
    "\n",
    "    Parameters\n",
    "    ----------\n",
    "    train_file_path : string\n",
    "        Name of file within current directory containing training data\n",
    "    test_file_path : string\n",
    "        Name of file within current directory containing test data\n",
    "\n",
    "    Returns\n",
    "    -------\n",
    "    images_train : np.array\n",
    "        Training data images in array of size (N_train, n_px * n_px) where\n",
    "        N_train is number of training examples and n_px is pixel size of\n",
    "        images (assuming square images)\n",
    "    labels_train : np.array\n",
    "        One-hot encoding of the labels corresponding to training data images.\n",
    "        Of size (N_train, 10) (10 as this is how many unique values were encoded)\n",
    "    images_test : np.array\n",
    "        Training data images in array of size (N_test, n_px * n_px) where\n",
    "        N_test is number of training examples\n",
    "    labels_test : np.array\n",
    "        One-hot encoding of the labels corresponding to test data images.\n",
    "        Of size (N_test, 10)\n",
    "\n",
    "    \"\"\"\n",
    "    # Load data\n",
    "    fashion_mnist = tf.keras.datasets.fashion_mnist\n",
    "    (train_images, train_labels), (val_images, val_labels) = fashion_mnist.load_data()\n",
    "    \n",
    "    # Normalize and reshape data\n",
    "    # Images are currently (N,28,28), we want (784,N)\n",
    "    N_train = train_images.shape[0]\n",
    "    N_val = val_images.shape[0]\n",
    "    nx = train_images.shape[1]\n",
    "    train_images = train_images.reshape((N_train, nx*nx)).T / 255\n",
    "    val_images = val_images.reshape((N_val, nx*nx)).T / 255\n",
    "    \n",
    "    # One-hot encode the label data (originally of size (N,))\n",
    "    train_labels_encoded = one_hot_encode(train_labels)\n",
    "    val_labels_encoded = one_hot_encode(val_labels)\n",
    "    \n",
    "    print(\"Dataset loaded successfully and preprocessed!\")\n",
    "    \n",
    "    return train_images, train_labels_encoded, val_images, val_labels_encoded, train_labels.reshape((N_train,1)), val_labels.reshape((N_val,1))"
   ]
  },
  {
   "cell_type": "code",
   "execution_count": 22,
   "metadata": {},
   "outputs": [
    {
     "name": "stdout",
     "output_type": "stream",
     "text": [
      "Dataset loaded successfully and preprocessed!\n"
     ]
    }
   ],
   "source": [
    "images_train, labels_train, images_val, labels_val, labels_train_orig, labels_val_orig = load_and_preprocess()"
   ]
  },
  {
   "cell_type": "markdown",
   "metadata": {},
   "source": [
    "Let's check all the sizes are as we need them."
   ]
  },
  {
   "cell_type": "code",
   "execution_count": 23,
   "metadata": {},
   "outputs": [
    {
     "name": "stdout",
     "output_type": "stream",
     "text": [
      "Training images has the shape: (784, 60000)\n",
      "Training labels has the shape: (60000, 10)\n",
      "Training labels (before encoding) has the shape: (60000, 1)\n",
      "Validation images has the shape: (784, 10000)\n",
      "Validation labels has the shape: (10000, 10)\n",
      "Number of training examples: 60000\n",
      "Number of val examples: 10000\n",
      "Original training labels: \n",
      "[[9]\n",
      " [0]\n",
      " [0]\n",
      " ...\n",
      " [3]\n",
      " [0]\n",
      " [5]]\n",
      "Encoded training labels: \n",
      "[[0. 0. 0. ... 0. 0. 1.]\n",
      " [1. 0. 0. ... 0. 0. 0.]\n",
      " [1. 0. 0. ... 0. 0. 0.]\n",
      " ...\n",
      " [0. 0. 0. ... 0. 0. 0.]\n",
      " [1. 0. 0. ... 0. 0. 0.]\n",
      " [0. 0. 0. ... 0. 0. 0.]]\n"
     ]
    }
   ],
   "source": [
    "print(\"Training images has the shape: \" + str(images_train.shape))\n",
    "print(\"Training labels has the shape: \" + str(labels_train.shape))\n",
    "print(\"Training labels (before encoding) has the shape: \" + str(labels_train_orig.shape))\n",
    "print(\"Validation images has the shape: \" + str(images_val.shape))\n",
    "print(\"Validation labels has the shape: \" + str(labels_val.shape))\n",
    "print(\"Number of training examples: \" + str(images_train.shape[1]))\n",
    "print(\"Number of val examples: \" + str(images_val.shape[1]))\n",
    "\n",
    "print(\"Original training labels: \")\n",
    "print(labels_train_orig)\n",
    "print(\"Encoded training labels: \")\n",
    "print(labels_train)"
   ]
  },
  {
   "cell_type": "code",
   "execution_count": 24,
   "metadata": {},
   "outputs": [
    {
     "data": {
      "image/png": "[encoded data removed]",
      "text/plain": [
       "<Figure size 432x432 with 4 Axes>"
      ]
     },
     "metadata": {
      "needs_background": "light"
     },
     "output_type": "display_data"
    }
   ],
   "source": [
    "plt.figure(figsize=[6,6])\n",
    "for i in range(4):\n",
    "    plt.subplot(2,2,i+1)\n",
    "    plt.title(\"Label: %i\"%labels_train_orig[i])\n",
    "    plt.imshow(images_train[:,i].reshape([28,28]),cmap='gray');"
   ]
  },
  {
   "cell_type": "markdown",
   "metadata": {},
   "source": [
    "Define a function to initial the weights and bias of the neurons."
   ]
  },
  {
   "cell_type": "code",
   "execution_count": 25,
   "metadata": {},
   "outputs": [],
   "source": [
    "def initialize_parameters(n_w, n_out):\n",
    "    \"\"\"\n",
    "    Initialize w parameter vector and bias with small random values\n",
    "\n",
    "    Parameters\n",
    "    ----------\n",
    "    n_w : int\n",
    "        number of w paramters to be initialized in w vector\n",
    "        equal to to the number of input features, n_px*n_px\n",
    "\n",
    "    Returns\n",
    "    -------\n",
    "    w : np.array\n",
    "        vector of weights initialized with small random values\n",
    "        of size (n_w, 1)\n",
    "    b : float\n",
    "        small randomly initialized bias\n",
    "\n",
    "    \"\"\"\n",
    "    \n",
    "    w = np.random.rand(n_w, n_out) * np.sqrt(1/n_w)\n",
    "    b = np.zeros((1, n_out))\n",
    "    \n",
    "    return w, b"
   ]
  },
  {
   "cell_type": "code",
   "execution_count": 26,
   "metadata": {},
   "outputs": [],
   "source": [
    "def sigmoid(x):\n",
    "    \n",
    "    s = 1 / (1 + np.exp(-x))\n",
    "    \n",
    "    return s"
   ]
  },
  {
   "cell_type": "markdown",
   "metadata": {},
   "source": [
    "Define a function which will calculate the current prediction based on the current parameters (W and b) and then use gradient descent to improve the parameters."
   ]
  },
  {
   "cell_type": "code",
   "execution_count": 27,
   "metadata": {},
   "outputs": [],
   "source": [
    "def update_weights(w, b, x, d, labels_orig, alpha):\n",
    "    \"\"\"\n",
    "    Update the values of weights and bias according to\n",
    "    the value of difference between computed outputs\n",
    "    and desired ouputs\n",
    "\n",
    "    Parameters\n",
    "    ----------\n",
    "    w : np.array\n",
    "        vector of weights of size (n_px*n_px, 1)\n",
    "    b : float\n",
    "        bias\n",
    "    x : np.array\n",
    "        training data of size (n_px*n_px, N)\n",
    "    d : np.array\n",
    "        desired outputs for training data of size\n",
    "        (N, 1)\n",
    "    N : int\n",
    "        number of examples\n",
    "\n",
    "    Returns\n",
    "    -------\n",
    "    w_new : np.array\n",
    "        updated value of weights\n",
    "    b_new : float\n",
    "        updated value of bias\n",
    "    error : float\n",
    "        total error of dataset\n",
    "\n",
    "    \"\"\"\n",
    "    N = x.shape[1]\n",
    "    y = np.reshape(sigmoid(np.dot(x.T, w) + b), (d.shape))\n",
    "    y_pred = np.reshape(np.argmax(y, axis = 1), labels_orig.shape)\n",
    "    diff = d - y\n",
    "    \n",
    "    pc_error = float(np.sum(y_pred != labels_orig)) / N * 100\n",
    "    pc_accuracy = float(np.sum(y_pred == labels_orig)) / N * 100\n",
    "    \n",
    "    # Update weights\n",
    "    dw = np.dot(x, diff)\n",
    "    db = np.sum(diff, axis = 0, keepdims=True)\n",
    "\n",
    "    w_new = w + (alpha * dw)\n",
    "    b_new = b + (alpha * db)\n",
    "    \n",
    "    \n",
    "    return w_new, b_new, pc_error, pc_accuracy"
   ]
  },
  {
   "cell_type": "markdown",
   "metadata": {},
   "source": [
    "Define the model which will iterate to continually improve the parameters."
   ]
  },
  {
   "cell_type": "code",
   "execution_count": 28,
   "metadata": {},
   "outputs": [],
   "source": [
    "def single_perceptron_model_train(images_train, labels_train, labels_train_orig, alpha = 0.0001, num_iter = 300):\n",
    "    \"\"\"\n",
    "    Train a single perceptron model\n",
    "\n",
    "    Parameters\n",
    "    ----------\n",
    "    images_train : np.array\n",
    "        greyscale (0s and 1s) image matrix \n",
    "        of size (N,n_px,n_px)\n",
    "    labels_train : np.array\n",
    "        DESCRIPTION.\n",
    "    alpha : float, optional\n",
    "        learning rate The default is 0.1.\n",
    "    acceptable_error : float, optional\n",
    "        the maximum accpetable percentage error before \n",
    "        learning is stopped. The default is 0.\n",
    "\n",
    "    Returns\n",
    "    -------\n",
    "    w : np.array\n",
    "        final trained values of weights\n",
    "    b : float\n",
    "        final trained value of bias\n",
    "    pc_error : \n",
    "        percentage error achieved once training has been completed\n",
    "\n",
    "    \"\"\"\n",
    "    x = images_train\n",
    "    N = x.shape[1] # numnber of training examples\n",
    "    d = labels_train\n",
    "    w, b = initialize_parameters(x.shape[0], labels_train.shape[1])\n",
    "    accuracy_log = np.array([])\n",
    "    \n",
    "    print(\"Training has started...\")\n",
    "    \n",
    "    for i in range(1, num_iter+1):\n",
    "        w, b, pc_error, pc_accuracy = update_weights(w, b, x, d, labels_train_orig, alpha)\n",
    "        accuracy_log = np.append(accuracy_log, pc_accuracy)\n",
    "        if i % 10 == 0:\n",
    "            print(\"Interation \" + str(i) + \": % Error on training data = \" + str(pc_error))\n",
    "            print(\"% accuracy on training data = \" + str(pc_accuracy))\n",
    "    \n",
    "    print(\"\\n% error on training data: \" + str(pc_error))\n",
    "    print(\"% accuracy on training data = \" + str(pc_accuracy))\n",
    "    \n",
    "    return w, b, pc_error, pc_accuracy, accuracy_log"
   ]
  },
  {
   "cell_type": "markdown",
   "metadata": {},
   "source": [
    "Define a function that will generate a prediction on the validation set using the trained parameters."
   ]
  },
  {
   "cell_type": "code",
   "execution_count": 35,
   "metadata": {},
   "outputs": [],
   "source": [
    "def single_perceptron_model_predict(images_val, labels_val, labels_orig, w, b):\n",
    "    \"\"\"\n",
    "    Get prediction on test data\n",
    "\n",
    "    Parameters\n",
    "    ----------\n",
    "    images_test : TYPE\n",
    "        DESCRIPTION.\n",
    "    labels_test : TYPE\n",
    "        DESCRIPTION.\n",
    "    w : TYPE\n",
    "        DESCRIPTION.\n",
    "    b : TYPE\n",
    "        DESCRIPTION.\n",
    "\n",
    "    Returns\n",
    "    -------\n",
    "    y_pred : TYPE\n",
    "        DESCRIPTION.\n",
    "    pc_error : TYPE\n",
    "        DESCRIPTION.\n",
    "\n",
    "    \"\"\"\n",
    "    x = images_val\n",
    "    N = x.shape[1] # numnber of test examples\n",
    "    d = labels_val\n",
    "    \n",
    "    # Compute prediction and error\n",
    "    y = np.reshape(sigmoid(np.dot(x.T, w) + b), d.shape)\n",
    "    y_pred = np.reshape(np.argmax(y, axis = 1), labels_orig.shape)\n",
    "    diff =  d - y_pred\n",
    "    pc_error = float(np.sum(y_pred != labels_orig)) / N * 100\n",
    "    pc_accuracy = float(np.sum(y_pred == labels_orig)) / N * 100\n",
    "    print(\"% error on val data: \" + str(pc_error))\n",
    "    print(\"% accuracy on val data: \" + str(pc_accuracy))\n",
    "    \n",
    "    return y_pred, pc_error, pc_accuracy"
   ]
  },
  {
   "cell_type": "code",
   "execution_count": 36,
   "metadata": {},
   "outputs": [
    {
     "name": "stdout",
     "output_type": "stream",
     "text": [
      "Training has started...\n"
     ]
    },
    {
     "name": "stderr",
     "output_type": "stream",
     "text": [
      "C:\\Users\\Jason\\anaconda3\\lib\\site-packages\\ipykernel_launcher.py:3: RuntimeWarning: overflow encountered in exp\n",
      "  This is separate from the ipykernel package so we can avoid doing imports until\n"
     ]
    },
    {
     "name": "stdout",
     "output_type": "stream",
     "text": [
      "Interation 10: % Error on training data = 58.245000000000005\n",
      "% accuracy on training data = 41.754999999999995\n",
      "Interation 20: % Error on training data = 37.31\n",
      "% accuracy on training data = 62.69\n",
      "Interation 30: % Error on training data = 31.630000000000003\n",
      "% accuracy on training data = 68.37\n",
      "Interation 40: % Error on training data = 35.14833333333333\n",
      "% accuracy on training data = 64.85166666666666\n",
      "Interation 50: % Error on training data = 26.543333333333337\n",
      "% accuracy on training data = 73.45666666666666\n",
      "Interation 60: % Error on training data = 39.78333333333333\n",
      "% accuracy on training data = 60.21666666666666\n",
      "Interation 70: % Error on training data = 36.42666666666667\n",
      "% accuracy on training data = 63.57333333333334\n",
      "Interation 80: % Error on training data = 32.446666666666665\n",
      "% accuracy on training data = 67.55333333333333\n",
      "Interation 90: % Error on training data = 30.961666666666666\n",
      "% accuracy on training data = 69.03833333333334\n",
      "Interation 100: % Error on training data = 25.161666666666665\n",
      "% accuracy on training data = 74.83833333333332\n",
      "Interation 110: % Error on training data = 30.638333333333335\n",
      "% accuracy on training data = 69.36166666666666\n",
      "Interation 120: % Error on training data = 32.788333333333334\n",
      "% accuracy on training data = 67.21166666666667\n",
      "Interation 130: % Error on training data = 25.221666666666664\n",
      "% accuracy on training data = 74.77833333333334\n",
      "Interation 140: % Error on training data = 36.635\n",
      "% accuracy on training data = 63.365\n",
      "Interation 150: % Error on training data = 26.25166666666667\n",
      "% accuracy on training data = 73.74833333333333\n",
      "Interation 160: % Error on training data = 25.905\n",
      "% accuracy on training data = 74.095\n",
      "Interation 170: % Error on training data = 39.69666666666667\n",
      "% accuracy on training data = 60.30333333333333\n",
      "Interation 180: % Error on training data = 25.855\n",
      "% accuracy on training data = 74.14500000000001\n",
      "Interation 190: % Error on training data = 34.78\n",
      "% accuracy on training data = 65.22\n",
      "Interation 200: % Error on training data = 21.245\n",
      "% accuracy on training data = 78.755\n",
      "Interation 210: % Error on training data = 29.40833333333333\n",
      "% accuracy on training data = 70.59166666666667\n",
      "Interation 220: % Error on training data = 28.353333333333335\n",
      "% accuracy on training data = 71.64666666666668\n",
      "Interation 230: % Error on training data = 26.661666666666665\n",
      "% accuracy on training data = 73.33833333333334\n",
      "Interation 240: % Error on training data = 23.993333333333332\n",
      "% accuracy on training data = 76.00666666666666\n",
      "Interation 250: % Error on training data = 17.885\n",
      "% accuracy on training data = 82.11500000000001\n",
      "Interation 260: % Error on training data = 21.693333333333335\n",
      "% accuracy on training data = 78.30666666666667\n",
      "Interation 270: % Error on training data = 21.863333333333333\n",
      "% accuracy on training data = 78.13666666666667\n",
      "Interation 280: % Error on training data = 17.571666666666665\n",
      "% accuracy on training data = 82.42833333333334\n",
      "Interation 290: % Error on training data = 25.985000000000003\n",
      "% accuracy on training data = 74.015\n",
      "Interation 300: % Error on training data = 21.251666666666665\n",
      "% accuracy on training data = 78.74833333333333\n",
      "\n",
      "% error on training data: 21.251666666666665\n",
      "% accuracy on training data = 78.74833333333333\n",
      "% error on val data: 30.56\n",
      "% accuracy on val data: 69.44\n"
     ]
    }
   ],
   "source": [
    "# Main\n",
    "    \n",
    "# Train model\n",
    "w, b, pc_error_train, pc_accuracy_train, train_acc_log = single_perceptron_model_train(images_train, labels_train, labels_train_orig)\n",
    "# Get predictions on test data\n",
    "y_pred, pc_error_val, pc_accuracy_val = single_perceptron_model_predict(images_val, labels_val, labels_val_orig, w, b)"
   ]
  },
  {
   "cell_type": "code",
   "execution_count": 37,
   "metadata": {},
   "outputs": [
    {
     "name": "stdout",
     "output_type": "stream",
     "text": [
      "Validation labels: \n",
      "[9 2 1 1 6 1 4 6 5 7 4 5 7 3 4 1 2 4 8 0 2 5 7 9 1 4 6 0 9 3]\n",
      "Predictions: \n",
      "[9 8 1 1 6 1 4 6 5 7 1 5 8 3 8 1 8 8 8 0 8 7 7 7 1 8 6 3 9 3]\n"
     ]
    }
   ],
   "source": [
    "print(\"Validation labels: \")\n",
    "print(labels_val_orig[0:30,0])\n",
    "print(\"Predictions: \")\n",
    "print(y_pred[0:30,0])"
   ]
  },
  {
   "cell_type": "code",
   "execution_count": 38,
   "metadata": {},
   "outputs": [
    {
     "data": {
      "image/png": "[encoded data removed]",
      "text/plain": [
       "<Figure size 864x648 with 1 Axes>"
      ]
     },
     "metadata": {
      "needs_background": "light"
     },
     "output_type": "display_data"
    }
   ],
   "source": [
    "plt.figure(figsize=(12,9))\n",
    "\n",
    "plt.plot(train_acc_log)\n",
    "\n",
    "plt.title(\"Graph of training accuracy against training epoch\")\n",
    "plt.xlabel(\"Training epoch\")\n",
    "plt.ylabel(\"Training accuracy\")\n",
    "plt.grid(True)\n",
    "\n",
    "plt.show()"
   ]
  },
  {
   "cell_type": "code",
   "execution_count": null,
   "metadata": {},
   "outputs": [],
   "source": []
  }
 ],
 "metadata": {
  "kernelspec": {
   "display_name": "Python 3",
   "language": "python",
   "name": "python3"
  },
  "language_info": {
   "codemirror_mode": {
    "name": "ipython",
    "version": 3
   },
   "file_extension": ".py",
   "mimetype": "text/x-python",
   "name": "python",
   "nbconvert_exporter": "python",
   "pygments_lexer": "ipython3",
   "version": "3.7.6"
  }
 },
 "nbformat": 4,
 "nbformat_minor": 4
}
